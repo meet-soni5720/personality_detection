{
  "nbformat": 4,
  "nbformat_minor": 0,
  "metadata": {
    "colab": {
      "name": "image_personality.ipynb",
      "provenance": []
    },
    "kernelspec": {
      "name": "python3",
      "display_name": "Python 3"
    },
    "accelerator": "GPU"
  },
  "cells": [
    {
      "cell_type": "code",
      "metadata": {
        "colab": {
          "base_uri": "https://localhost:8080/",
          "height": 1000
        },
        "id": "V97Ws1277GHs",
        "outputId": "77f9707e-ef97-4204-d6eb-0386b74fc190"
      },
      "source": [
        "!pip install tensorflow==2.2.0"
      ],
      "execution_count": null,
      "outputs": [
        {
          "output_type": "stream",
          "text": [
            "Collecting tensorflow==2.2.0\n",
            "\u001b[?25l  Downloading https://files.pythonhosted.org/packages/3d/be/679ce5254a8c8d07470efb4a4c00345fae91f766e64f1c2aece8796d7218/tensorflow-2.2.0-cp36-cp36m-manylinux2010_x86_64.whl (516.2MB)\n",
            "\u001b[K     |████████████████████████████████| 516.2MB 25kB/s \n",
            "\u001b[?25hRequirement already satisfied: numpy<2.0,>=1.16.0 in /usr/local/lib/python3.6/dist-packages (from tensorflow==2.2.0) (1.19.5)\n",
            "Requirement already satisfied: six>=1.12.0 in /usr/local/lib/python3.6/dist-packages (from tensorflow==2.2.0) (1.15.0)\n",
            "Requirement already satisfied: gast==0.3.3 in /usr/local/lib/python3.6/dist-packages (from tensorflow==2.2.0) (0.3.3)\n",
            "Requirement already satisfied: termcolor>=1.1.0 in /usr/local/lib/python3.6/dist-packages (from tensorflow==2.2.0) (1.1.0)\n",
            "Requirement already satisfied: absl-py>=0.7.0 in /usr/local/lib/python3.6/dist-packages (from tensorflow==2.2.0) (0.10.0)\n",
            "Collecting tensorboard<2.3.0,>=2.2.0\n",
            "\u001b[?25l  Downloading https://files.pythonhosted.org/packages/1d/74/0a6fcb206dcc72a6da9a62dd81784bfdbff5fedb099982861dc2219014fb/tensorboard-2.2.2-py3-none-any.whl (3.0MB)\n",
            "\u001b[K     |████████████████████████████████| 3.0MB 41.9MB/s \n",
            "\u001b[?25hRequirement already satisfied: wrapt>=1.11.1 in /usr/local/lib/python3.6/dist-packages (from tensorflow==2.2.0) (1.12.1)\n",
            "Requirement already satisfied: scipy==1.4.1; python_version >= \"3\" in /usr/local/lib/python3.6/dist-packages (from tensorflow==2.2.0) (1.4.1)\n",
            "Requirement already satisfied: wheel>=0.26; python_version >= \"3\" in /usr/local/lib/python3.6/dist-packages (from tensorflow==2.2.0) (0.36.2)\n",
            "Requirement already satisfied: h5py<2.11.0,>=2.10.0 in /usr/local/lib/python3.6/dist-packages (from tensorflow==2.2.0) (2.10.0)\n",
            "Requirement already satisfied: protobuf>=3.8.0 in /usr/local/lib/python3.6/dist-packages (from tensorflow==2.2.0) (3.12.4)\n",
            "Collecting tensorflow-estimator<2.3.0,>=2.2.0\n",
            "\u001b[?25l  Downloading https://files.pythonhosted.org/packages/a4/f5/926ae53d6a226ec0fda5208e0e581cffed895ccc89e36ba76a8e60895b78/tensorflow_estimator-2.2.0-py2.py3-none-any.whl (454kB)\n",
            "\u001b[K     |████████████████████████████████| 460kB 52.6MB/s \n",
            "\u001b[?25hRequirement already satisfied: keras-preprocessing>=1.1.0 in /usr/local/lib/python3.6/dist-packages (from tensorflow==2.2.0) (1.1.2)\n",
            "Requirement already satisfied: opt-einsum>=2.3.2 in /usr/local/lib/python3.6/dist-packages (from tensorflow==2.2.0) (3.3.0)\n",
            "Requirement already satisfied: astunparse==1.6.3 in /usr/local/lib/python3.6/dist-packages (from tensorflow==2.2.0) (1.6.3)\n",
            "Requirement already satisfied: grpcio>=1.8.6 in /usr/local/lib/python3.6/dist-packages (from tensorflow==2.2.0) (1.32.0)\n",
            "Requirement already satisfied: google-pasta>=0.1.8 in /usr/local/lib/python3.6/dist-packages (from tensorflow==2.2.0) (0.2.0)\n",
            "Requirement already satisfied: markdown>=2.6.8 in /usr/local/lib/python3.6/dist-packages (from tensorboard<2.3.0,>=2.2.0->tensorflow==2.2.0) (3.3.3)\n",
            "Requirement already satisfied: werkzeug>=0.11.15 in /usr/local/lib/python3.6/dist-packages (from tensorboard<2.3.0,>=2.2.0->tensorflow==2.2.0) (1.0.1)\n",
            "Requirement already satisfied: setuptools>=41.0.0 in /usr/local/lib/python3.6/dist-packages (from tensorboard<2.3.0,>=2.2.0->tensorflow==2.2.0) (53.0.0)\n",
            "Requirement already satisfied: requests<3,>=2.21.0 in /usr/local/lib/python3.6/dist-packages (from tensorboard<2.3.0,>=2.2.0->tensorflow==2.2.0) (2.23.0)\n",
            "Requirement already satisfied: google-auth-oauthlib<0.5,>=0.4.1 in /usr/local/lib/python3.6/dist-packages (from tensorboard<2.3.0,>=2.2.0->tensorflow==2.2.0) (0.4.2)\n",
            "Requirement already satisfied: tensorboard-plugin-wit>=1.6.0 in /usr/local/lib/python3.6/dist-packages (from tensorboard<2.3.0,>=2.2.0->tensorflow==2.2.0) (1.8.0)\n",
            "Requirement already satisfied: google-auth<2,>=1.6.3 in /usr/local/lib/python3.6/dist-packages (from tensorboard<2.3.0,>=2.2.0->tensorflow==2.2.0) (1.25.0)\n",
            "Requirement already satisfied: importlib-metadata; python_version < \"3.8\" in /usr/local/lib/python3.6/dist-packages (from markdown>=2.6.8->tensorboard<2.3.0,>=2.2.0->tensorflow==2.2.0) (3.4.0)\n",
            "Requirement already satisfied: idna<3,>=2.5 in /usr/local/lib/python3.6/dist-packages (from requests<3,>=2.21.0->tensorboard<2.3.0,>=2.2.0->tensorflow==2.2.0) (2.10)\n",
            "Requirement already satisfied: urllib3!=1.25.0,!=1.25.1,<1.26,>=1.21.1 in /usr/local/lib/python3.6/dist-packages (from requests<3,>=2.21.0->tensorboard<2.3.0,>=2.2.0->tensorflow==2.2.0) (1.24.3)\n",
            "Requirement already satisfied: certifi>=2017.4.17 in /usr/local/lib/python3.6/dist-packages (from requests<3,>=2.21.0->tensorboard<2.3.0,>=2.2.0->tensorflow==2.2.0) (2020.12.5)\n",
            "Requirement already satisfied: chardet<4,>=3.0.2 in /usr/local/lib/python3.6/dist-packages (from requests<3,>=2.21.0->tensorboard<2.3.0,>=2.2.0->tensorflow==2.2.0) (3.0.4)\n",
            "Requirement already satisfied: requests-oauthlib>=0.7.0 in /usr/local/lib/python3.6/dist-packages (from google-auth-oauthlib<0.5,>=0.4.1->tensorboard<2.3.0,>=2.2.0->tensorflow==2.2.0) (1.3.0)\n",
            "Requirement already satisfied: rsa<5,>=3.1.4; python_version >= \"3.6\" in /usr/local/lib/python3.6/dist-packages (from google-auth<2,>=1.6.3->tensorboard<2.3.0,>=2.2.0->tensorflow==2.2.0) (4.7)\n",
            "Requirement already satisfied: pyasn1-modules>=0.2.1 in /usr/local/lib/python3.6/dist-packages (from google-auth<2,>=1.6.3->tensorboard<2.3.0,>=2.2.0->tensorflow==2.2.0) (0.2.8)\n",
            "Requirement already satisfied: cachetools<5.0,>=2.0.0 in /usr/local/lib/python3.6/dist-packages (from google-auth<2,>=1.6.3->tensorboard<2.3.0,>=2.2.0->tensorflow==2.2.0) (4.2.1)\n",
            "Requirement already satisfied: typing-extensions>=3.6.4; python_version < \"3.8\" in /usr/local/lib/python3.6/dist-packages (from importlib-metadata; python_version < \"3.8\"->markdown>=2.6.8->tensorboard<2.3.0,>=2.2.0->tensorflow==2.2.0) (3.7.4.3)\n",
            "Requirement already satisfied: zipp>=0.5 in /usr/local/lib/python3.6/dist-packages (from importlib-metadata; python_version < \"3.8\"->markdown>=2.6.8->tensorboard<2.3.0,>=2.2.0->tensorflow==2.2.0) (3.4.0)\n",
            "Requirement already satisfied: oauthlib>=3.0.0 in /usr/local/lib/python3.6/dist-packages (from requests-oauthlib>=0.7.0->google-auth-oauthlib<0.5,>=0.4.1->tensorboard<2.3.0,>=2.2.0->tensorflow==2.2.0) (3.1.0)\n",
            "Requirement already satisfied: pyasn1>=0.1.3 in /usr/local/lib/python3.6/dist-packages (from rsa<5,>=3.1.4; python_version >= \"3.6\"->google-auth<2,>=1.6.3->tensorboard<2.3.0,>=2.2.0->tensorflow==2.2.0) (0.4.8)\n",
            "Installing collected packages: tensorboard, tensorflow-estimator, tensorflow\n",
            "  Found existing installation: tensorboard 2.4.1\n",
            "    Uninstalling tensorboard-2.4.1:\n",
            "      Successfully uninstalled tensorboard-2.4.1\n",
            "  Found existing installation: tensorflow-estimator 2.4.0\n",
            "    Uninstalling tensorflow-estimator-2.4.0:\n",
            "      Successfully uninstalled tensorflow-estimator-2.4.0\n",
            "  Found existing installation: tensorflow 2.4.1\n",
            "    Uninstalling tensorflow-2.4.1:\n",
            "      Successfully uninstalled tensorflow-2.4.1\n",
            "Successfully installed tensorboard-2.2.2 tensorflow-2.2.0 tensorflow-estimator-2.2.0\n"
          ],
          "name": "stdout"
        },
        {
          "output_type": "display_data",
          "data": {
            "application/vnd.colab-display-data+json": {
              "pip_warning": {
                "packages": [
                  "tensorboard",
                  "tensorflow"
                ]
              }
            }
          },
          "metadata": {
            "tags": []
          }
        }
      ]
    },
    {
      "cell_type": "code",
      "metadata": {
        "id": "TzeFvAcwiqV7"
      },
      "source": [
        "import os\r\n",
        "import numpy as np\r\n",
        "import tensorflow as tf\r\n",
        "from tensorflow import keras\r\n",
        "from tensorflow.keras.layers import Conv2D, BatchNormalization, Dropout, Flatten, Input, Dense, MaxPooling2D, Reshape\r\n",
        "from tensorflow.keras.optimizers import Adam\r\n",
        "from tensorflow.keras.models import Model, model_from_json, load_model\r\n",
        "from tensorflow.keras.callbacks import ReduceLROnPlateau\r\n",
        "from tensorflow.keras.losses import MeanSquaredError\r\n",
        "from tensorflow.keras import backend as K\r\n",
        "from PIL import Image, ImageOps\r\n",
        "import pickle\r\n",
        "import time\r\n",
        "import tqdm\r\n",
        "import math"
      ],
      "execution_count": null,
      "outputs": []
    },
    {
      "cell_type": "code",
      "metadata": {
        "colab": {
          "base_uri": "https://localhost:8080/",
          "height": 35
        },
        "id": "Xf6lbBTP7w49",
        "outputId": "31511b63-97a6-4a41-bf92-83bacb3c6e7f"
      },
      "source": [
        "tf.__version__"
      ],
      "execution_count": null,
      "outputs": [
        {
          "output_type": "execute_result",
          "data": {
            "application/vnd.google.colaboratory.intrinsic+json": {
              "type": "string"
            },
            "text/plain": [
              "'2.2.0'"
            ]
          },
          "metadata": {
            "tags": []
          },
          "execution_count": 2
        }
      ]
    },
    {
      "cell_type": "code",
      "metadata": {
        "colab": {
          "base_uri": "https://localhost:8080/"
        },
        "id": "q1Jm6lGWjtEH",
        "outputId": "98d2dda8-16b0-42b0-c8b0-d476ba3bec5e"
      },
      "source": [
        "from google.colab import drive \r\n",
        "drive.mount('/content/gdrive')"
      ],
      "execution_count": null,
      "outputs": [
        {
          "output_type": "stream",
          "text": [
            "Mounted at /content/gdrive\n"
          ],
          "name": "stdout"
        }
      ]
    },
    {
      "cell_type": "code",
      "metadata": {
        "colab": {
          "base_uri": "https://localhost:8080/"
        },
        "id": "DHBGcpC8kWfc",
        "outputId": "c426278d-fcbe-48cb-b817-efe973c77226"
      },
      "source": [
        "X_train = []\r\n",
        "Y_train = []\r\n",
        "base_path = '/content/gdrive/MyDrive/data_for_training&test'\r\n",
        "for i in tqdm.tqdm(range(1,4)):\r\n",
        "  file_name = 'train_clselfie_v4_' + str(i) + \".pickle\"\r\n",
        "  pic = pickle.load(open(os.path.join(base_path, file_name), \"rb\"))\r\n",
        "  for i in pic['X']:\r\n",
        "    x = np.array(i)\r\n",
        "    X_train.append(x)\r\n",
        "  for i in pic['Y']:\r\n",
        "    y = np.array(i)\r\n",
        "    Y_train.append(y)\r\n",
        "\r\n",
        "\r\n",
        "file_name = 'test_clselfie_v4.pickle'\r\n",
        "X_val = []\r\n",
        "Y_val = []\r\n",
        "pic = pickle.load(open(os.path.join(base_path, file_name), \"rb\"))\r\n",
        "for i in pic['X']:\r\n",
        "  x = np.array(i)\r\n",
        "  X_val.append(x)\r\n",
        "for i in pic['Y']:\r\n",
        "  y = np.array(i)\r\n",
        "  Y_val.append(y)"
      ],
      "execution_count": null,
      "outputs": [
        {
          "output_type": "stream",
          "text": [
            "100%|██████████| 3/3 [00:34<00:00, 11.59s/it]\n"
          ],
          "name": "stderr"
        }
      ]
    },
    {
      "cell_type": "code",
      "metadata": {
        "colab": {
          "base_uri": "https://localhost:8080/"
        },
        "id": "cjIStP4njfq8",
        "outputId": "4ec9879f-d460-4274-8335-8410afd3b8aa"
      },
      "source": [
        "X_train = np.array(X_train)\r\n",
        "Y_train = np.array(Y_train)\r\n",
        "X_val = np.array(X_val)\r\n",
        "Y_val = np.array(Y_val)\r\n",
        "print(X_train.shape)"
      ],
      "execution_count": null,
      "outputs": [
        {
          "output_type": "stream",
          "text": [
            "(28152, 208, 208, 1)\n"
          ],
          "name": "stdout"
        }
      ]
    },
    {
      "cell_type": "code",
      "metadata": {
        "colab": {
          "base_uri": "https://localhost:8080/"
        },
        "id": "T2b-exaFnCB7",
        "outputId": "113f3b54-9b7a-425e-f58d-7cf2a1028c38"
      },
      "source": [
        "input_cla = Input(shape=(208,208,1,))\r\n",
        "\r\n",
        "fm_size = 16;\r\n",
        "x = Conv2D(fm_size, (3,3), activation='relu', padding='same')(input_cla)\r\n",
        "x = MaxPooling2D((2, 2), padding='same')(x)\r\n",
        "\r\n",
        "fm_size = fm_size*2;\r\n",
        "x = Conv2D(fm_size, (3,3), activation='relu', padding='same')(x)\r\n",
        "x = MaxPooling2D((2, 2), padding='same')(x)\r\n",
        "\r\n",
        "fm_size = fm_size*2;\r\n",
        "x = Conv2D(fm_size, (3,3), activation='relu', padding='same')(x)\r\n",
        "x = MaxPooling2D((2, 2), padding='same')(x)\r\n",
        "\r\n",
        "fm_size = fm_size*2;\r\n",
        "x = Conv2D(fm_size, (3,3), activation='relu', padding='same')(x)\r\n",
        "x = MaxPooling2D((2, 2), padding='same')(x)\r\n",
        "\r\n",
        "fm_size = fm_size*2;\r\n",
        "x = Conv2D(fm_size, (3,3), activation='relu', padding='same')(x)\r\n",
        "x = MaxPooling2D((2, 2), padding='same')(x)\r\n",
        "\r\n",
        "fm_size = fm_size*2;\r\n",
        "x = Conv2D(fm_size, (3,3), activation='relu', padding='same')(x)\r\n",
        "x = MaxPooling2D((2, 2), padding='same')(x)\r\n",
        "\r\n",
        "fm_size = fm_size*2;\r\n",
        "x = Conv2D(fm_size, (3,3), activation='relu', padding='same')(x)\r\n",
        "x = MaxPooling2D((2, 2), padding='same')(x)\r\n",
        "\r\n",
        "fm_size = fm_size*2;\r\n",
        "x = Conv2D(fm_size, (3,3), activation='relu', padding='same')(x)\r\n",
        "x = MaxPooling2D((2, 2), padding='same')(x)\r\n",
        "\r\n",
        "em_size = math.ceil(208/(2**8));\r\n",
        "\r\n",
        "x = Reshape((em_size*em_size*fm_size,),input_shape=(em_size,em_size,fm_size))(x)\r\n",
        "x=Dense(50,activation='relu', input_shape=(em_size*em_size*fm_size,))(x)\r\n",
        "x=Dense(50,activation='relu')(x)\r\n",
        "x=Dense(10,activation='relu')(x)\r\n",
        "output=Dense(5)(x)\r\n",
        "\r\n",
        "classifier = Model(input_cla, output)\r\n",
        "adam = Adam(lr=1e-4)\r\n",
        "loss = MeanSquaredError()\r\n",
        "classifier.compile(optimizer=adam, loss=loss, metrics = [tf.keras.metrics.MeanSquaredError()])\r\n",
        "\r\n",
        "classifier.summary()"
      ],
      "execution_count": null,
      "outputs": [
        {
          "output_type": "stream",
          "text": [
            "Model: \"model\"\n",
            "_________________________________________________________________\n",
            "Layer (type)                 Output Shape              Param #   \n",
            "=================================================================\n",
            "input_1 (InputLayer)         [(None, 208, 208, 1)]     0         \n",
            "_________________________________________________________________\n",
            "conv2d (Conv2D)              (None, 208, 208, 16)      160       \n",
            "_________________________________________________________________\n",
            "max_pooling2d (MaxPooling2D) (None, 104, 104, 16)      0         \n",
            "_________________________________________________________________\n",
            "conv2d_1 (Conv2D)            (None, 104, 104, 32)      4640      \n",
            "_________________________________________________________________\n",
            "max_pooling2d_1 (MaxPooling2 (None, 52, 52, 32)        0         \n",
            "_________________________________________________________________\n",
            "conv2d_2 (Conv2D)            (None, 52, 52, 64)        18496     \n",
            "_________________________________________________________________\n",
            "max_pooling2d_2 (MaxPooling2 (None, 26, 26, 64)        0         \n",
            "_________________________________________________________________\n",
            "conv2d_3 (Conv2D)            (None, 26, 26, 128)       73856     \n",
            "_________________________________________________________________\n",
            "max_pooling2d_3 (MaxPooling2 (None, 13, 13, 128)       0         \n",
            "_________________________________________________________________\n",
            "conv2d_4 (Conv2D)            (None, 13, 13, 256)       295168    \n",
            "_________________________________________________________________\n",
            "max_pooling2d_4 (MaxPooling2 (None, 7, 7, 256)         0         \n",
            "_________________________________________________________________\n",
            "conv2d_5 (Conv2D)            (None, 7, 7, 512)         1180160   \n",
            "_________________________________________________________________\n",
            "max_pooling2d_5 (MaxPooling2 (None, 4, 4, 512)         0         \n",
            "_________________________________________________________________\n",
            "conv2d_6 (Conv2D)            (None, 4, 4, 1024)        4719616   \n",
            "_________________________________________________________________\n",
            "max_pooling2d_6 (MaxPooling2 (None, 2, 2, 1024)        0         \n",
            "_________________________________________________________________\n",
            "conv2d_7 (Conv2D)            (None, 2, 2, 2048)        18876416  \n",
            "_________________________________________________________________\n",
            "max_pooling2d_7 (MaxPooling2 (None, 1, 1, 2048)        0         \n",
            "_________________________________________________________________\n",
            "reshape (Reshape)            (None, 2048)              0         \n",
            "_________________________________________________________________\n",
            "dense (Dense)                (None, 50)                102450    \n",
            "_________________________________________________________________\n",
            "dense_1 (Dense)              (None, 50)                2550      \n",
            "_________________________________________________________________\n",
            "dense_2 (Dense)              (None, 10)                510       \n",
            "_________________________________________________________________\n",
            "dense_3 (Dense)              (None, 5)                 55        \n",
            "=================================================================\n",
            "Total params: 25,274,077\n",
            "Trainable params: 25,274,077\n",
            "Non-trainable params: 0\n",
            "_________________________________________________________________\n"
          ],
          "name": "stdout"
        }
      ]
    },
    {
      "cell_type": "code",
      "metadata": {
        "id": "_t7iDDjBom0b"
      },
      "source": [
        "callbacks = [ReduceLROnPlateau(factor=0.3, patience=5, verbose = 1)]"
      ],
      "execution_count": null,
      "outputs": []
    },
    {
      "cell_type": "code",
      "metadata": {
        "colab": {
          "base_uri": "https://localhost:8080/"
        },
        "id": "eO0vPTudPp_S",
        "outputId": "ed221927-e6d4-41d4-b31a-28ff325ffa09"
      },
      "source": [
        "BATCH_SIZE = 64\r\n",
        "TRAIN_STEP_SIZE = len(X_train) // BATCH_SIZE\r\n",
        "history = classifier.fit(X_train, Y_train, batch_size = BATCH_SIZE, epochs = 50, steps_per_epoch = TRAIN_STEP_SIZE,\r\n",
        "                    shuffle = True, validation_data = (X_val, Y_val))"
      ],
      "execution_count": null,
      "outputs": [
        {
          "output_type": "stream",
          "text": [
            "Epoch 1/50\n",
            "439/439 [==============================] - 40s 91ms/step - loss: 0.1331 - mean_squared_error: 0.1331 - val_loss: 0.0643 - val_mean_squared_error: 0.0643\n",
            "Epoch 2/50\n",
            "439/439 [==============================] - 41s 93ms/step - loss: 0.0396 - mean_squared_error: 0.0396 - val_loss: 0.0273 - val_mean_squared_error: 0.0273\n",
            "Epoch 3/50\n",
            "439/439 [==============================] - 40s 91ms/step - loss: 0.0228 - mean_squared_error: 0.0228 - val_loss: 0.0235 - val_mean_squared_error: 0.0235\n",
            "Epoch 4/50\n",
            "439/439 [==============================] - 40s 92ms/step - loss: 0.0191 - mean_squared_error: 0.0191 - val_loss: 0.0238 - val_mean_squared_error: 0.0238\n",
            "Epoch 5/50\n",
            "439/439 [==============================] - 40s 92ms/step - loss: 0.0164 - mean_squared_error: 0.0164 - val_loss: 0.0236 - val_mean_squared_error: 0.0236\n",
            "Epoch 6/50\n",
            "439/439 [==============================] - 40s 92ms/step - loss: 0.0139 - mean_squared_error: 0.0139 - val_loss: 0.0248 - val_mean_squared_error: 0.0248\n",
            "Epoch 7/50\n",
            "439/439 [==============================] - 40s 92ms/step - loss: 0.0122 - mean_squared_error: 0.0122 - val_loss: 0.0238 - val_mean_squared_error: 0.0238\n",
            "Epoch 8/50\n",
            "439/439 [==============================] - 40s 92ms/step - loss: 0.0105 - mean_squared_error: 0.0105 - val_loss: 0.0243 - val_mean_squared_error: 0.0243\n",
            "Epoch 9/50\n",
            "439/439 [==============================] - 40s 92ms/step - loss: 0.0092 - mean_squared_error: 0.0092 - val_loss: 0.0241 - val_mean_squared_error: 0.0241\n",
            "Epoch 10/50\n",
            "439/439 [==============================] - 40s 92ms/step - loss: 0.0083 - mean_squared_error: 0.0083 - val_loss: 0.0236 - val_mean_squared_error: 0.0236\n",
            "Epoch 11/50\n",
            "439/439 [==============================] - 40s 92ms/step - loss: 0.0075 - mean_squared_error: 0.0075 - val_loss: 0.0240 - val_mean_squared_error: 0.0240\n",
            "Epoch 12/50\n",
            "439/439 [==============================] - 40s 92ms/step - loss: 0.0068 - mean_squared_error: 0.0068 - val_loss: 0.0243 - val_mean_squared_error: 0.0243\n",
            "Epoch 13/50\n",
            "439/439 [==============================] - 40s 92ms/step - loss: 0.0064 - mean_squared_error: 0.0064 - val_loss: 0.0235 - val_mean_squared_error: 0.0235\n",
            "Epoch 14/50\n",
            "439/439 [==============================] - 40s 92ms/step - loss: 0.0061 - mean_squared_error: 0.0061 - val_loss: 0.0233 - val_mean_squared_error: 0.0233\n",
            "Epoch 15/50\n",
            "439/439 [==============================] - 40s 92ms/step - loss: 0.0060 - mean_squared_error: 0.0060 - val_loss: 0.0231 - val_mean_squared_error: 0.0231\n",
            "Epoch 16/50\n",
            "439/439 [==============================] - 40s 92ms/step - loss: 0.0057 - mean_squared_error: 0.0057 - val_loss: 0.0231 - val_mean_squared_error: 0.0231\n",
            "Epoch 17/50\n",
            "439/439 [==============================] - 40s 92ms/step - loss: 0.0056 - mean_squared_error: 0.0056 - val_loss: 0.0236 - val_mean_squared_error: 0.0236\n",
            "Epoch 18/50\n",
            "439/439 [==============================] - 40s 92ms/step - loss: 0.0055 - mean_squared_error: 0.0055 - val_loss: 0.0231 - val_mean_squared_error: 0.0231\n",
            "Epoch 19/50\n",
            "439/439 [==============================] - 40s 92ms/step - loss: 0.0053 - mean_squared_error: 0.0053 - val_loss: 0.0223 - val_mean_squared_error: 0.0223\n",
            "Epoch 20/50\n",
            "439/439 [==============================] - 40s 92ms/step - loss: 0.0052 - mean_squared_error: 0.0052 - val_loss: 0.0223 - val_mean_squared_error: 0.0223\n",
            "Epoch 21/50\n",
            "439/439 [==============================] - 40s 92ms/step - loss: 0.0053 - mean_squared_error: 0.0053 - val_loss: 0.0230 - val_mean_squared_error: 0.0230\n",
            "Epoch 22/50\n",
            "439/439 [==============================] - 40s 92ms/step - loss: 0.0051 - mean_squared_error: 0.0051 - val_loss: 0.0223 - val_mean_squared_error: 0.0223\n",
            "Epoch 23/50\n",
            "439/439 [==============================] - 40s 92ms/step - loss: 0.0050 - mean_squared_error: 0.0050 - val_loss: 0.0219 - val_mean_squared_error: 0.0219\n",
            "Epoch 24/50\n",
            "439/439 [==============================] - 40s 92ms/step - loss: 0.0049 - mean_squared_error: 0.0049 - val_loss: 0.0217 - val_mean_squared_error: 0.0217\n",
            "Epoch 25/50\n",
            "439/439 [==============================] - 40s 92ms/step - loss: 0.0049 - mean_squared_error: 0.0049 - val_loss: 0.0217 - val_mean_squared_error: 0.0217\n",
            "Epoch 26/50\n",
            "439/439 [==============================] - 40s 92ms/step - loss: 0.0048 - mean_squared_error: 0.0048 - val_loss: 0.0220 - val_mean_squared_error: 0.0220\n",
            "Epoch 27/50\n",
            "439/439 [==============================] - 40s 92ms/step - loss: 0.0047 - mean_squared_error: 0.0047 - val_loss: 0.0214 - val_mean_squared_error: 0.0214\n",
            "Epoch 28/50\n",
            "439/439 [==============================] - 40s 92ms/step - loss: 0.0048 - mean_squared_error: 0.0048 - val_loss: 0.0213 - val_mean_squared_error: 0.0213\n",
            "Epoch 29/50\n",
            "439/439 [==============================] - 41s 92ms/step - loss: 0.0047 - mean_squared_error: 0.0047 - val_loss: 0.0212 - val_mean_squared_error: 0.0212\n",
            "Epoch 30/50\n",
            "439/439 [==============================] - 41s 92ms/step - loss: 0.0046 - mean_squared_error: 0.0046 - val_loss: 0.0213 - val_mean_squared_error: 0.0213\n",
            "Epoch 31/50\n",
            "439/439 [==============================] - 41s 92ms/step - loss: 0.0046 - mean_squared_error: 0.0046 - val_loss: 0.0211 - val_mean_squared_error: 0.0211\n",
            "Epoch 32/50\n",
            "439/439 [==============================] - 41s 92ms/step - loss: 0.0045 - mean_squared_error: 0.0045 - val_loss: 0.0211 - val_mean_squared_error: 0.0211\n",
            "Epoch 33/50\n",
            "439/439 [==============================] - 41s 92ms/step - loss: 0.0044 - mean_squared_error: 0.0044 - val_loss: 0.0211 - val_mean_squared_error: 0.0211\n",
            "Epoch 34/50\n",
            "439/439 [==============================] - 40s 92ms/step - loss: 0.0045 - mean_squared_error: 0.0045 - val_loss: 0.0208 - val_mean_squared_error: 0.0208\n",
            "Epoch 35/50\n",
            "439/439 [==============================] - 40s 92ms/step - loss: 0.0045 - mean_squared_error: 0.0045 - val_loss: 0.0209 - val_mean_squared_error: 0.0209\n",
            "Epoch 36/50\n",
            "439/439 [==============================] - 40s 92ms/step - loss: 0.0044 - mean_squared_error: 0.0044 - val_loss: 0.0206 - val_mean_squared_error: 0.0206\n",
            "Epoch 37/50\n",
            "439/439 [==============================] - 40s 92ms/step - loss: 0.0044 - mean_squared_error: 0.0044 - val_loss: 0.0206 - val_mean_squared_error: 0.0206\n",
            "Epoch 38/50\n",
            "439/439 [==============================] - 40s 92ms/step - loss: 0.0044 - mean_squared_error: 0.0044 - val_loss: 0.0204 - val_mean_squared_error: 0.0204\n",
            "Epoch 39/50\n",
            "439/439 [==============================] - 40s 92ms/step - loss: 0.0043 - mean_squared_error: 0.0043 - val_loss: 0.0206 - val_mean_squared_error: 0.0206\n",
            "Epoch 40/50\n",
            "439/439 [==============================] - 40s 92ms/step - loss: 0.0042 - mean_squared_error: 0.0042 - val_loss: 0.0203 - val_mean_squared_error: 0.0203\n",
            "Epoch 41/50\n",
            "439/439 [==============================] - 40s 92ms/step - loss: 0.0042 - mean_squared_error: 0.0042 - val_loss: 0.0201 - val_mean_squared_error: 0.0201\n",
            "Epoch 42/50\n",
            "439/439 [==============================] - 40s 92ms/step - loss: 0.0042 - mean_squared_error: 0.0042 - val_loss: 0.0203 - val_mean_squared_error: 0.0203\n",
            "Epoch 43/50\n",
            "439/439 [==============================] - 40s 92ms/step - loss: 0.0042 - mean_squared_error: 0.0042 - val_loss: 0.0204 - val_mean_squared_error: 0.0204\n",
            "Epoch 44/50\n",
            "439/439 [==============================] - 40s 92ms/step - loss: 0.0041 - mean_squared_error: 0.0041 - val_loss: 0.0203 - val_mean_squared_error: 0.0203\n",
            "Epoch 45/50\n",
            "439/439 [==============================] - 40s 92ms/step - loss: 0.0042 - mean_squared_error: 0.0042 - val_loss: 0.0202 - val_mean_squared_error: 0.0202\n",
            "Epoch 46/50\n",
            "439/439 [==============================] - 40s 92ms/step - loss: 0.0041 - mean_squared_error: 0.0041 - val_loss: 0.0202 - val_mean_squared_error: 0.0202\n",
            "Epoch 47/50\n",
            "439/439 [==============================] - 40s 92ms/step - loss: 0.0041 - mean_squared_error: 0.0041 - val_loss: 0.0202 - val_mean_squared_error: 0.0202\n",
            "Epoch 48/50\n",
            "439/439 [==============================] - 40s 92ms/step - loss: 0.0041 - mean_squared_error: 0.0041 - val_loss: 0.0201 - val_mean_squared_error: 0.0201\n",
            "Epoch 49/50\n",
            "439/439 [==============================] - 40s 92ms/step - loss: 0.0041 - mean_squared_error: 0.0041 - val_loss: 0.0202 - val_mean_squared_error: 0.0202\n",
            "Epoch 50/50\n",
            "439/439 [==============================] - 40s 92ms/step - loss: 0.0040 - mean_squared_error: 0.0040 - val_loss: 0.0200 - val_mean_squared_error: 0.0200\n"
          ],
          "name": "stdout"
        }
      ]
    },
    {
      "cell_type": "code",
      "metadata": {
        "id": "SGvaXM9XkWD3"
      },
      "source": [
        "model_json = classifier.to_json()\r\n",
        "with open(\"/content/gdrive/MyDrive/ipv2.json\", \"w\") as json_file:\r\n",
        "    json_file.write(model_json)\r\n",
        "classifier.save_weights(\"/content/gdrive/MyDrive/ipv2.h5\")"
      ],
      "execution_count": null,
      "outputs": []
    },
    {
      "cell_type": "code",
      "metadata": {
        "id": "11cHAClJ17fn"
      },
      "source": [
        "drive.flush_and_unmount()"
      ],
      "execution_count": null,
      "outputs": []
    },
    {
      "cell_type": "code",
      "metadata": {
        "id": "k6-N4HMd1_rC"
      },
      "source": [
        ""
      ],
      "execution_count": null,
      "outputs": []
    }
  ]
}