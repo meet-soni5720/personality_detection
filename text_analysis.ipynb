{
  "nbformat": 4,
  "nbformat_minor": 0,
  "metadata": {
    "colab": {
      "name": "run.ipynb",
      "provenance": []
    },
    "kernelspec": {
      "name": "python3",
      "display_name": "Python 3"
    }
  },
  "cells": [
    {
      "cell_type": "code",
      "metadata": {
        "id": "MgDJE3NGEubH"
      },
      "source": [
        "!pip install -q tensorflow-text"
      ],
      "execution_count": 72,
      "outputs": []
    },
    {
      "cell_type": "code",
      "metadata": {
        "id": "OjmROgIPE4pM"
      },
      "source": [
        "!pip install -q tf-models-official"
      ],
      "execution_count": 73,
      "outputs": []
    },
    {
      "cell_type": "code",
      "metadata": {
        "id": "rybga6jPEL1B"
      },
      "source": [
        "import os\r\n",
        "import shutil\r\n",
        "import pandas as pd\r\n",
        "import numpy as np\r\n",
        "import tensorflow as tf\r\n",
        "import tensorflow_hub as hub\r\n",
        "import tensorflow_text as text\r\n",
        "from official.nlp import optimization\r\n",
        "import matplotlib.pyplot as plt"
      ],
      "execution_count": 3,
      "outputs": []
    },
    {
      "cell_type": "code",
      "metadata": {
        "id": "g_3Bdn1ZEQGy"
      },
      "source": [
        "def build_classifier_model():\r\n",
        "  text_input = tf.keras.layers.Input(shape=(), dtype=tf.string, name='text')\r\n",
        "  preprocessing_layer = hub.KerasLayer(\"https://tfhub.dev/tensorflow/bert_en_uncased_preprocess/3\", name='preprocessing')\r\n",
        "  encoder_inputs = preprocessing_layer(text_input)\r\n",
        "  encoder = hub.KerasLayer(\"https://tfhub.dev/tensorflow/small_bert/bert_en_uncased_L-4_H-512_A-8/1\", trainable=True, name='BERT_encoder')\r\n",
        "  outputs = encoder(encoder_inputs)\r\n",
        "  net = outputs['pooled_output']\r\n",
        "  net = tf.keras.layers.Dropout(0.1)(net)\r\n",
        "  net = tf.keras.layers.Dense(5, activation=None, name='classifier')(net)\r\n",
        "  return tf.keras.Model(text_input, net)"
      ],
      "execution_count": 4,
      "outputs": []
    },
    {
      "cell_type": "code",
      "metadata": {
        "id": "e421vsWcEX_4"
      },
      "source": [
        "classifier_model = build_classifier_model()\r\n",
        "classifier_model.load_weights(\"path/to/model\")"
      ],
      "execution_count": 55,
      "outputs": []
    },
    {
      "cell_type": "code",
      "metadata": {
        "id": "um8Fj_oKS0XT"
      },
      "source": [
        "text_test = [\"I like to solve problems that people face in real-life practical situations. That's why I like programming. I am good at web development (HTML, CSS, JavaScript, ReactJS and NodeJS) and game development (BabylonJS, Godot). I can code in C++, Python and JavaScript very well.\"]\r\n"
      ],
      "execution_count": 69,
      "outputs": []
    },
    {
      "cell_type": "code",
      "metadata": {
        "colab": {
          "base_uri": "https://localhost:8080/"
        },
        "id": "okhTitE-E2dZ",
        "outputId": "5e511a44-0b71-4238-8a10-cd4ca479f273"
      },
      "source": [
        "\r\n",
        "bert_raw_result = classifier_model(tf.constant(text_test))\r\n",
        "print(tf.__version__)\r\n",
        "\r\n",
        "\r\n",
        "result = np.array(tf.nn.sigmoid(bert_raw_result))\r\n",
        "print(result)"
      ],
      "execution_count": 70,
      "outputs": [
        {
          "output_type": "stream",
          "text": [
            "2.4.1\n",
            "[[0.51874554 0.30462492 0.5632002  0.536889   0.34697738]]\n"
          ],
          "name": "stdout"
        }
      ]
    },
    {
      "cell_type": "code",
      "metadata": {
        "colab": {
          "base_uri": "https://localhost:8080/"
        },
        "id": "UswMh7ZtGUiX",
        "outputId": "6bfb8812-bf81-4fd8-b757-10b3e2e26ad3"
      },
      "source": [
        "for i in result:\r\n",
        "  print(\"Extraversion : {:.2f}\\nNeuroticism : {:.2f}\\nAgreeableness : {:.2f}\\nConscientiousness : {:.2f}\\nOpenness : {:.2f}\\n\\n\".format(i[0],i[1],i[2],i[3],i[4]))\r\n"
      ],
      "execution_count": 71,
      "outputs": [
        {
          "output_type": "stream",
          "text": [
            "Extraversion : 0.52\n",
            "Neuroticism : 0.30\n",
            "Agreeableness : 0.56\n",
            "Conscientiousness : 0.54\n",
            "Openness : 0.35\n",
            "\n",
            "\n"
          ],
          "name": "stdout"
        }
      ]
    },
    {
      "cell_type": "code",
      "metadata": {
        "id": "r0v9IxejTWCq"
      },
      "source": [
        ""
      ],
      "execution_count": 84,
      "outputs": []
    },
    {
      "cell_type": "code",
      "metadata": {
        "id": "_tplN7a4qB-f"
      },
      "source": [
        ""
      ],
      "execution_count": 84,
      "outputs": []
    },
    {
      "cell_type": "code",
      "metadata": {
        "id": "8XlEpYciqYRd"
      },
      "source": [
        ""
      ],
      "execution_count": null,
      "outputs": []
    }
  ]
}